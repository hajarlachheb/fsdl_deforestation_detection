{
 "metadata": {
  "language_info": {
   "codemirror_mode": {
    "name": "ipython",
    "version": 3
   },
   "file_extension": ".py",
   "mimetype": "text/x-python",
   "name": "python",
   "nbconvert_exporter": "python",
   "pygments_lexer": "ipython3",
   "version": "3.7.10"
  },
  "orig_nbformat": 2,
  "kernelspec": {
   "name": "python3710jvsc74a57bd0c688819034f544f61fe874a727958ca1369fb300f2b7f3eadc7aa7e0f1155810",
   "display_name": "Python 3.7.10 64-bit"
  }
 },
 "nbformat": 4,
 "nbformat_minor": 2,
 "cells": [
  {
   "source": [
    "# Get data\n",
    "---\n",
    "\n",
    "Notebook to download and prepare (not yet preprocess) the data."
   ],
   "cell_type": "markdown",
   "metadata": {}
  },
  {
   "source": [
    "## Setup"
   ],
   "cell_type": "markdown",
   "metadata": {}
  },
  {
   "cell_type": "code",
   "execution_count": null,
   "metadata": {},
   "outputs": [],
   "source": [
    "from glob import glob\n",
    "from tqdm.auto import tqdm\n",
    "from data_utils import decompress_tar_7z"
   ]
  },
  {
   "cell_type": "code",
   "execution_count": null,
   "metadata": {},
   "outputs": [],
   "source": [
    "DATA_PATH = '/home/andreferreira/data/'"
   ]
  },
  {
   "source": [
    "## Download"
   ],
   "cell_type": "markdown",
   "metadata": {}
  },
  {
   "source": [
    "There doesn't seem to be a scriptable way to download all the data (at least not with the compressed images, which is crucial here). Just go to the [original Kaggle competition page](https://www.kaggle.com/c/planet-understanding-the-amazon-from-space/data) and press `Download All`."
   ],
   "cell_type": "markdown",
   "metadata": {}
  },
  {
   "source": [
    "## Decompress\n",
    "\n",
    "We need to decompress the image folders so that we can access the images."
   ],
   "cell_type": "markdown",
   "metadata": {}
  },
  {
   "cell_type": "code",
   "execution_count": null,
   "metadata": {},
   "outputs": [],
   "source": [
    "compressed_fn = glob(f'{DATA_PATH}*.tar.7z', recursive=True)\n",
    "compressed_fn"
   ]
  },
  {
   "cell_type": "code",
   "execution_count": null,
   "metadata": {},
   "outputs": [],
   "source": [
    "for fn in tqdm(compressed_fn, desc='Decompressing'):\n",
    "    decompress_tar_7z(fn, input_dir='', output_dir=DATA_PATH)"
   ]
  },
  {
   "source": [
    "In case the code above doesn't work, just run directly in the terminal:\n",
    "```\n",
    "7z x -so ~/data/train-jpg.tar.7z | tar xf - -C ~/data/\n",
    "7z x -so ~/data/test-jpg.tar.7z | tar xf - -C ~/data/\n",
    "7z x -so ~/data/train-tif-v2.tar.7z | tar xf - -C ~/data/\n",
    "7z x -so ~/data/test-tif-v2.tar.7z | tar xf - -C ~/data/\n",
    "7z x -so ~/data/test-jpg-additional.tar.7z | tar xf - -C ~/data/\n",
    "```\n",
    "\n",
    "Install `7z` if you don't already have it:\n",
    "```\n",
    "sudo apt-get install p7zip-full\n",
    "```"
   ],
   "cell_type": "markdown",
   "metadata": {}
  },
  {
   "cell_type": "code",
   "execution_count": null,
   "metadata": {},
   "outputs": [],
   "source": []
  }
 ]
}