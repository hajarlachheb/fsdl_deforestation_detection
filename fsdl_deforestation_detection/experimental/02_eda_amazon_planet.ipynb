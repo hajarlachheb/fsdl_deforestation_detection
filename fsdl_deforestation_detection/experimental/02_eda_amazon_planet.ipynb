{
 "metadata": {
  "language_info": {
   "codemirror_mode": {
    "name": "ipython",
    "version": 3
   },
   "file_extension": ".py",
   "mimetype": "text/x-python",
   "name": "python",
   "nbconvert_exporter": "python",
   "pygments_lexer": "ipython3",
   "version": "3.7.10"
  },
  "orig_nbformat": 2,
  "kernelspec": {
   "name": "python3710jvsc74a57bd0c688819034f544f61fe874a727958ca1369fb300f2b7f3eadc7aa7e0f1155810",
   "display_name": "Python 3.7.10 64-bit"
  }
 },
 "nbformat": 4,
 "nbformat_minor": 2,
 "cells": [
  {
   "source": [
    "# EDA on Planet's Amazon Dataset\n",
    "---\n",
    "\n",
    "A notebook for initial exploratory data analysis on the [Planet: Understanding the Amazon from Space](https://www.kaggle.com/c/planet-understanding-the-amazon-from-space/) dataset."
   ],
   "cell_type": "markdown",
   "metadata": {}
  },
  {
   "source": [
    "## Setup"
   ],
   "cell_type": "markdown",
   "metadata": {}
  },
  {
   "cell_type": "code",
   "execution_count": null,
   "metadata": {},
   "outputs": [],
   "source": [
    "import sys\n",
    "import numpy as np\n",
    "import pandas as pd\n",
    "from skimage.io import imread\n",
    "import matplotlib.pyplot as plt\n",
    "import plotly.express as px\n",
    "import plotly.io as pio\n",
    "from tqdm.auto import tqdm"
   ]
  },
  {
   "cell_type": "code",
   "execution_count": null,
   "metadata": {},
   "outputs": [],
   "source": [
    "sys.path.append('../data/')\n",
    "import data_utils"
   ]
  },
  {
   "cell_type": "code",
   "execution_count": null,
   "metadata": {},
   "outputs": [],
   "source": [
    "data_utils.DATA_PATH = '/home/andreferreira/data/'\n",
    "data_utils.IMG_PATH = 'train-jpg/'\n",
    "data_utils.TIFF_PATH = 'train-tif-v2/'\n",
    "data_utils.LABELS_PATH = 'train_v2.csv/train_v2.csv'"
   ]
  },
  {
   "source": [
    "Set the plotting style:"
   ],
   "cell_type": "markdown",
   "metadata": {}
  },
  {
   "cell_type": "code",
   "execution_count": null,
   "metadata": {},
   "outputs": [],
   "source": [
    "pio.templates.default = 'plotly_dark'"
   ]
  },
  {
   "source": [
    "## Load data"
   ],
   "cell_type": "markdown",
   "metadata": {}
  },
  {
   "cell_type": "code",
   "execution_count": null,
   "metadata": {},
   "outputs": [],
   "source": [
    "labels_df = pd.read_csv(data_utils.DATA_PATH + data_utils.LABELS_PATH)\n",
    "labels_df"
   ]
  },
  {
   "cell_type": "code",
   "execution_count": null,
   "metadata": {},
   "outputs": [],
   "source": [
    "next(data_utils.get_amazon_sample(labels_df, load_tiff=True))"
   ]
  },
  {
   "cell_type": "code",
   "execution_count": null,
   "metadata": {},
   "outputs": [],
   "source": [
    "count = 0\n",
    "for row in data_utils.get_amazon_sample(labels_df):\n",
    "    print(row)\n",
    "    count += 1\n",
    "    if count >= 5:\n",
    "        break"
   ]
  },
  {
   "source": [
    "## Explore labels"
   ],
   "cell_type": "markdown",
   "metadata": {}
  },
  {
   "source": [
    "Number of labeled samples:"
   ],
   "cell_type": "markdown",
   "metadata": {}
  },
  {
   "cell_type": "code",
   "execution_count": null,
   "metadata": {},
   "outputs": [],
   "source": [
    "len(labels_df)"
   ]
  },
  {
   "source": [
    "Clean the labels:"
   ],
   "cell_type": "markdown",
   "metadata": {}
  },
  {
   "cell_type": "code",
   "execution_count": null,
   "metadata": {},
   "outputs": [],
   "source": [
    "# Build list with unique labels\n",
    "label_list = []\n",
    "for tag_str in labels_df.tags.values:\n",
    "    labels = tag_str.split(' ')\n",
    "    for label in labels:\n",
    "        if label not in label_list:\n",
    "            label_list.append(label)\n",
    "label_list = sorted(label_list)\n",
    "label_list"
   ]
  },
  {
   "cell_type": "code",
   "execution_count": null,
   "metadata": {},
   "outputs": [],
   "source": [
    "labels_df = data_utils.encode_tags(labels_df)\n",
    "labels_df.head()"
   ]
  },
  {
   "source": [
    "Add a `deforestation` label:"
   ],
   "cell_type": "markdown",
   "metadata": {}
  },
  {
   "cell_type": "code",
   "execution_count": null,
   "metadata": {},
   "outputs": [],
   "source": [
    "labels_df = data_utils.add_deforestation_label(labels_df)\n",
    "labels_df.head()"
   ]
  },
  {
   "source": [
    "Analyse labels' occurrence:"
   ],
   "cell_type": "markdown",
   "metadata": {}
  },
  {
   "cell_type": "code",
   "execution_count": null,
   "metadata": {},
   "outputs": [],
   "source": [
    "counts = labels_df[label_list+['deforestation']].sum()\n",
    "counts['all'] = len(labels_df)\n",
    "counts = counts.sort_values()\n",
    "counts = counts.to_frame()\n",
    "counts.columns = ['counts']"
   ]
  },
  {
   "cell_type": "code",
   "execution_count": null,
   "metadata": {},
   "outputs": [],
   "source": [
    "px.bar(counts)"
   ]
  },
  {
   "source": [
    "Dataset balance, as in the percentage of positive samples (with `deforestation` label):"
   ],
   "cell_type": "markdown",
   "metadata": {}
  },
  {
   "cell_type": "code",
   "execution_count": null,
   "metadata": {},
   "outputs": [],
   "source": [
    "print(f'{(len(labels_df[labels_df.deforestation == 1]) / len(labels_df)) * 100:.2f}%')"
   ]
  },
  {
   "source": [
    "While the dataset isn't exactly balanced for our definition of deforestation, it still has a relevant amount of positive samples."
   ],
   "cell_type": "markdown",
   "metadata": {}
  },
  {
   "source": [
    "## Explore images"
   ],
   "cell_type": "markdown",
   "metadata": {}
  },
  {
   "source": [
    "### JPG"
   ],
   "cell_type": "markdown",
   "metadata": {}
  },
  {
   "source": [
    "Plot an image from each tag:"
   ],
   "cell_type": "markdown",
   "metadata": {}
  },
  {
   "cell_type": "code",
   "execution_count": null,
   "metadata": {},
   "outputs": [],
   "source": [
    "len(label_list)"
   ]
  },
  {
   "cell_type": "code",
   "execution_count": null,
   "metadata": {},
   "outputs": [],
   "source": [
    "_, ax = plt.subplots(len(label_list) // 3 + 1, 3, sharex='col', sharey='row', figsize=(20, 40))\n",
    "count = 0\n",
    "for label in label_list:\n",
    "    sample = labels_df[labels_df[label] == 1].iloc[0]\n",
    "    img = imread(f\"{data_utils.DATA_PATH}{data_utils.IMG_PATH}{sample.image_name}.jpg\")\n",
    "    ax[count // 3, count % 3].imshow(img)\n",
    "    ax[count // 3, count % 3].set_title(f'{sample.image_name} - {label}')\n",
    "    count += 1"
   ]
  },
  {
   "source": [
    "Plot some deforestation images:"
   ],
   "cell_type": "markdown",
   "metadata": {}
  },
  {
   "cell_type": "code",
   "execution_count": null,
   "metadata": {},
   "outputs": [],
   "source": [
    "_, ax = plt.subplots(3, 3, sharex='col', sharey='row', figsize=(20, 20))\n",
    "deforestation_samples = labels_df[labels_df['deforestation'] == 1]\n",
    "for count in range(9):\n",
    "    sample = deforestation_samples.iloc[count]\n",
    "    img = imread(f\"{data_utils.DATA_PATH}{data_utils.IMG_PATH}{sample.image_name}.jpg\")\n",
    "    ax[count // 3, count % 3].imshow(img)\n",
    "    ax[count // 3, count % 3].set_title(f'{sample.image_name} - {sample.tags}')"
   ]
  },
  {
   "source": [
    "Estimate pixel stats:"
   ],
   "cell_type": "markdown",
   "metadata": {}
  },
  {
   "cell_type": "code",
   "execution_count": null,
   "metadata": {},
   "outputs": [],
   "source": [
    "imgs = []\n",
    "n_samples = len(labels_df)\n",
    "count = 0\n",
    "for img_data, label in tqdm(data_utils.get_amazon_sample(labels_df), total=n_samples-1, desc='Loading samples'):\n",
    "    imgs.append(img_data)\n",
    "    count += 1\n",
    "    if count >= n_samples:\n",
    "        break"
   ]
  },
  {
   "cell_type": "code",
   "execution_count": null,
   "metadata": {},
   "outputs": [],
   "source": [
    "len(imgs)"
   ]
  },
  {
   "cell_type": "code",
   "execution_count": null,
   "metadata": {},
   "outputs": [],
   "source": [
    "imgs = np.array(imgs)"
   ]
  },
  {
   "cell_type": "code",
   "execution_count": null,
   "metadata": {},
   "outputs": [],
   "source": [
    "imgs.shape"
   ]
  },
  {
   "cell_type": "code",
   "execution_count": null,
   "metadata": {},
   "outputs": [],
   "source": [
    "imgs.min()"
   ]
  },
  {
   "cell_type": "code",
   "execution_count": null,
   "metadata": {},
   "outputs": [],
   "source": [
    "imgs.max()"
   ]
  },
  {
   "cell_type": "code",
   "execution_count": null,
   "metadata": {},
   "outputs": [],
   "source": [
    "# imgs = imgs[:10000]"
   ]
  },
  {
   "cell_type": "code",
   "execution_count": null,
   "metadata": {},
   "outputs": [],
   "source": [
    "imgs.mean()"
   ]
  },
  {
   "cell_type": "code",
   "execution_count": null,
   "metadata": {},
   "outputs": [],
   "source": [
    "imgs.mean(axis=(0, 1, 2))"
   ]
  },
  {
   "cell_type": "code",
   "execution_count": null,
   "metadata": {},
   "outputs": [],
   "source": [
    "imgs.std()"
   ]
  },
  {
   "cell_type": "code",
   "execution_count": null,
   "metadata": {},
   "outputs": [],
   "source": [
    "imgs[:5000].var(axis=(0, 1, 2))"
   ]
  },
  {
   "source": [
    "### TIFF"
   ],
   "cell_type": "markdown",
   "metadata": {}
  },
  {
   "source": [
    "Plot an image from each tag:"
   ],
   "cell_type": "markdown",
   "metadata": {}
  },
  {
   "cell_type": "code",
   "execution_count": null,
   "metadata": {},
   "outputs": [],
   "source": [
    "_, ax = plt.subplots(len(label_list) // 3 + 1, 3, sharex='col', sharey='row', figsize=(20, 40))\n",
    "count = 0\n",
    "for label in label_list:\n",
    "    sample = labels_df[labels_df[label] == 1].iloc[0]\n",
    "    img = imread(f\"{data_utils.DATA_PATH}{data_utils.TIFF_PATH}{sample.image_name}.tif\")\n",
    "    img = img[:, :, :-1]\n",
    "    img = (img - img.min()) / (img.max() - img.min())\n",
    "    ax[count // 3, count % 3].imshow(img)\n",
    "    ax[count // 3, count % 3].set_title(f'{sample.image_name} - {label}')\n",
    "    count += 1"
   ]
  },
  {
   "source": [
    "It's clear that we would likely need to do a more robust image preprocessing to be able to adequately use these TIFF files."
   ],
   "cell_type": "markdown",
   "metadata": {}
  },
  {
   "source": [
    "Plot some deforestation images:"
   ],
   "cell_type": "markdown",
   "metadata": {}
  },
  {
   "cell_type": "code",
   "execution_count": null,
   "metadata": {},
   "outputs": [],
   "source": [
    "_, ax = plt.subplots(3, 3, sharex='col', sharey='row', figsize=(20, 20))\n",
    "deforestation_samples = labels_df[labels_df['deforestation'] == 1]\n",
    "for count in range(9):\n",
    "    sample = deforestation_samples.iloc[count]\n",
    "    img = imread(f\"{data_utils.DATA_PATH}{data_utils.TIFF_PATH}{sample.image_name}.tif\")\n",
    "    img = img[:, :, :-1]\n",
    "    img = (img - img.min()) / (img.max() - img.min())\n",
    "    ax[count // 3, count % 3].imshow(img)\n",
    "    ax[count // 3, count % 3].set_title(f'{sample.image_name} - {sample.tags}')"
   ]
  },
  {
   "source": [
    "Estimate pixel stats:"
   ],
   "cell_type": "markdown",
   "metadata": {}
  },
  {
   "cell_type": "code",
   "execution_count": null,
   "metadata": {},
   "outputs": [],
   "source": [
    "imgs = []\n",
    "n_samples = len(labels_df)\n",
    "count = 0\n",
    "for img_data, label in tqdm(data_utils.get_amazon_sample(labels_df, load_tiff=True), total=n_samples-1, desc='Loading samples'):\n",
    "    imgs.append(img_data)\n",
    "    count += 1\n",
    "    if count >= n_samples:\n",
    "        break"
   ]
  },
  {
   "cell_type": "code",
   "execution_count": null,
   "metadata": {},
   "outputs": [],
   "source": [
    "imgs = np.array(imgs)"
   ]
  },
  {
   "cell_type": "code",
   "execution_count": null,
   "metadata": {},
   "outputs": [],
   "source": [
    "imgs.shape"
   ]
  },
  {
   "cell_type": "code",
   "execution_count": null,
   "metadata": {},
   "outputs": [],
   "source": [
    "imgs.min()"
   ]
  },
  {
   "cell_type": "code",
   "execution_count": null,
   "metadata": {},
   "outputs": [],
   "source": [
    "imgs.max()"
   ]
  },
  {
   "cell_type": "code",
   "execution_count": null,
   "metadata": {},
   "outputs": [],
   "source": [
    "imgs.mean()"
   ]
  },
  {
   "cell_type": "code",
   "execution_count": null,
   "metadata": {},
   "outputs": [],
   "source": []
  }
 ]
}